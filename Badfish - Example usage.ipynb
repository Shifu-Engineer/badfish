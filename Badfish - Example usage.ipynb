{
 "cells": [
  {
   "cell_type": "code",
   "execution_count": 1,
   "metadata": {
    "collapsed": true
   },
   "outputs": [],
   "source": [
    "import pandas as pd"
   ]
  },
  {
   "cell_type": "code",
   "execution_count": 2,
   "metadata": {
    "collapsed": false
   },
   "outputs": [
    {
     "name": "stderr",
     "output_type": "stream",
     "text": [
      ":0: FutureWarning: IPython widgets are experimental and may change in the future.\n"
     ]
    }
   ],
   "source": [
    "import badfish as bf"
   ]
  },
  {
   "cell_type": "code",
   "execution_count": 3,
   "metadata": {
    "collapsed": true
   },
   "outputs": [],
   "source": [
    "df = pd.read_excel('badfish_data.xlsx')"
   ]
  },
  {
   "cell_type": "code",
   "execution_count": 4,
   "metadata": {
    "collapsed": true
   },
   "outputs": [],
   "source": [
    "## Convert the DataFrame into a MissFrame\n",
    "mf = bf.MissFrame(df)"
   ]
  },
  {
   "cell_type": "code",
   "execution_count": 5,
   "metadata": {
    "collapsed": false
   },
   "outputs": [
    {
     "data": {
      "text/plain": [
       "['__doc__',\n",
       " '__init__',\n",
       " '__module__',\n",
       " '_group_dat',\n",
       " '_masked_missframe',\n",
       " 'cohort',\n",
       " 'corr',\n",
       " 'counts',\n",
       " 'data',\n",
       " 'frequency_item_set',\n",
       " 'get_best_column_set',\n",
       " 'miss_frame',\n",
       " 'pattern',\n",
       " 'plot']"
      ]
     },
     "execution_count": 5,
     "metadata": {},
     "output_type": "execute_result"
    }
   ],
   "source": [
    "## Methods\n",
    "\n",
    "## In a missframe, True means Miss. False means present.\n",
    "dir(mf)"
   ]
  },
  {
   "cell_type": "code",
   "execution_count": 6,
   "metadata": {
    "collapsed": false
   },
   "outputs": [
    {
     "data": {
      "text/plain": [
       "Index([u'user_id', u'email', u'timestamp', u'noJobs', u'id', u'companyName',\n",
       "       u'designation', u'throughAMCAT', u'salary', u'dateOfJoining',\n",
       "       u'dateOfLeaving', u'companyCity', u'candidateID', u'firstName',\n",
       "       u'Attention to Detail', u'Computer Programming', u'Computer Science',\n",
       "       u'English', u'Logical Ability', u'Personality', u'Quantitative Ability',\n",
       "       u'gender', u'dob', u'pCityID', u'cCityID', u'boardName_10',\n",
       "       u'boardName_12', u'boardPercent_10', u'passingYear_12',\n",
       "       u'boardPercent_12', u'collegeName', u'collegeID', u'degreeID',\n",
       "       u'subjectID', u'completionYear', u'overallPercentage',\n",
       "       u'college_cityID', u'college_stateID', u'college_regionID', u'dom_p',\n",
       "       u'subjectName_', u'field_of_study', u'cCity', u'cRegion', u'cState',\n",
       "       u'pCity', u'pRegion', u'pState', u'pHRA', u'pMetro', u'college_city',\n",
       "       u'college_region', u'college_state', u'collegeHRA', u'college_metro',\n",
       "       u'njob', u'age', u'company_region', u'company_state', u'companyHRA',\n",
       "       u'companyMetro'],\n",
       "      dtype='object')"
      ]
     },
     "execution_count": 6,
     "metadata": {},
     "output_type": "execute_result"
    }
   ],
   "source": [
    "df.columns"
   ]
  },
  {
   "cell_type": "code",
   "execution_count": 7,
   "metadata": {
    "collapsed": false
   },
   "outputs": [
    {
     "name": "stderr",
     "output_type": "stream",
     "text": [
      "badfish.py:121: FutureWarning: sort is deprecated, use sort_values(inplace=True) for INPLACE sorting\n",
      "  mf_sum.sort(ascending = ascending)\n"
     ]
    },
    {
     "data": {
      "text/plain": [
       "English    32\n",
       "dtype: int64"
      ]
     },
     "execution_count": 7,
     "metadata": {},
     "output_type": "execute_result"
    }
   ],
   "source": [
    "## All MissFrame methods follow the Where/How/Columns api\n",
    "## Where: Show me data where ___ are missing.\n",
    "## How: Show me data where ___ columns are all/any missing.\n",
    "## Columns: Show me only ___ columns.\n",
    "mf.counts(where = ['companyMetro', 'gender'], how = 'any', columns = ['English'])\n",
    "## How many companyState values *are missing* where CompanyMetro or Gender are missing."
   ]
  },
  {
   "cell_type": "code",
   "execution_count": 8,
   "metadata": {
    "collapsed": false
   },
   "outputs": [
    {
     "data": {
      "text/html": [
       "<div>\n",
       "<table border=\"1\" class=\"dataframe\">\n",
       "  <thead>\n",
       "    <tr style=\"text-align: right;\">\n",
       "      <th></th>\n",
       "      <th>pHRA</th>\n",
       "      <th>pMetro</th>\n",
       "      <th>0</th>\n",
       "    </tr>\n",
       "  </thead>\n",
       "  <tbody>\n",
       "    <tr>\n",
       "      <th>0</th>\n",
       "      <td>False</td>\n",
       "      <td>False</td>\n",
       "      <td>11360</td>\n",
       "    </tr>\n",
       "    <tr>\n",
       "      <th>1</th>\n",
       "      <td>True</td>\n",
       "      <td>False</td>\n",
       "      <td>1099</td>\n",
       "    </tr>\n",
       "    <tr>\n",
       "      <th>2</th>\n",
       "      <td>True</td>\n",
       "      <td>True</td>\n",
       "      <td>32</td>\n",
       "    </tr>\n",
       "  </tbody>\n",
       "</table>\n",
       "</div>"
      ],
      "text/plain": [
       "    pHRA pMetro      0\n",
       "0  False  False  11360\n",
       "1   True  False   1099\n",
       "2   True   True     32"
      ]
     },
     "execution_count": 8,
     "metadata": {},
     "output_type": "execute_result"
    }
   ],
   "source": [
    "mf.pattern(columns = ['pHRA', 'pMetro'], norm = False, threshold=0.0)\n",
    "## Note: True means missing in a missframe.\n",
    "## Use where and any, to define a subset of data to search for patterns."
   ]
  },
  {
   "cell_type": "code",
   "execution_count": 9,
   "metadata": {
    "collapsed": false
   },
   "outputs": [
    {
     "data": {
      "image/png": "[encoded data removed]",
      "text/plain": [
       "<matplotlib.figure.Figure at 0x1346abd0>"
      ]
     },
     "metadata": {},
     "output_type": "display_data"
    }
   ],
   "source": [
    "## Plotting these results.\n",
    "import matplotlib.pyplot as plt\n",
    "%matplotlib inline\n",
    "mf.plot(kind='pattern', columns = ['pHRA', 'pMetro'], norm = False, threshold=0.0)\n",
    "## Blue is Present, Red is missing. \n",
    "## Note raw counts on the left."
   ]
  },
  {
   "cell_type": "code",
   "execution_count": 10,
   "metadata": {
    "collapsed": false
   },
   "outputs": [
    {
     "data": {
      "image/png": "[encoded data removed]",
      "text/plain": [
       "<matplotlib.figure.Figure at 0x13469230>"
      ]
     },
     "metadata": {},
     "output_type": "display_data"
    }
   ],
   "source": [
    "mf.plot(kind='pattern', columns = ['pHRA', 'pMetro', 'age', 'English', 'Logical Ability'], norm = False, threshold=0.0)"
   ]
  },
  {
   "cell_type": "code",
   "execution_count": 11,
   "metadata": {
    "collapsed": false
   },
   "outputs": [
    {
     "data": {
      "text/html": [
       "<div>\n",
       "<table border=\"1\" class=\"dataframe\">\n",
       "  <thead>\n",
       "    <tr style=\"text-align: right;\">\n",
       "      <th></th>\n",
       "      <th>age</th>\n",
       "      <th>gender</th>\n",
       "    </tr>\n",
       "  </thead>\n",
       "  <tbody>\n",
       "    <tr>\n",
       "      <th>age</th>\n",
       "      <td>1.000000</td>\n",
       "      <td>0.880752</td>\n",
       "    </tr>\n",
       "    <tr>\n",
       "      <th>gender</th>\n",
       "      <td>0.880752</td>\n",
       "      <td>1.000000</td>\n",
       "    </tr>\n",
       "  </tbody>\n",
       "</table>\n",
       "</div>"
      ],
      "text/plain": [
       "             age    gender\n",
       "age     1.000000  0.880752\n",
       "gender  0.880752  1.000000"
      ]
     },
     "execution_count": 11,
     "metadata": {},
     "output_type": "execute_result"
    }
   ],
   "source": [
    "mf.corr(columns = ['age', 'gender'])\n",
    "## Age and Gender go missing or present with correlation 0.88"
   ]
  },
  {
   "cell_type": "code",
   "execution_count": 12,
   "metadata": {
    "collapsed": false
   },
   "outputs": [
    {
     "data": {
      "text/html": [
       "<div>\n",
       "<table border=\"1\" class=\"dataframe\">\n",
       "  <thead>\n",
       "    <tr style=\"text-align: right;\">\n",
       "      <th></th>\n",
       "      <th>age</th>\n",
       "      <th>gender</th>\n",
       "      <th>0</th>\n",
       "    </tr>\n",
       "  </thead>\n",
       "  <tbody>\n",
       "    <tr>\n",
       "      <th>0</th>\n",
       "      <td>False</td>\n",
       "      <td>False</td>\n",
       "      <td>0.991114</td>\n",
       "    </tr>\n",
       "  </tbody>\n",
       "</table>\n",
       "</div>"
      ],
      "text/plain": [
       "     age gender         0\n",
       "0  False  False  0.991114"
      ]
     },
     "execution_count": 12,
     "metadata": {},
     "output_type": "execute_result"
    }
   ],
   "source": [
    "mf.pattern(columns = ['age', 'gender'])"
   ]
  },
  {
   "cell_type": "code",
   "execution_count": 13,
   "metadata": {
    "collapsed": false
   },
   "outputs": [],
   "source": [
    "itemsets, rules = mf.frequency_item_set(columns = ['age', 'gender', 'pHRA'], support=0.0)"
   ]
  },
  {
   "cell_type": "code",
   "execution_count": 14,
   "metadata": {
    "collapsed": false
   },
   "outputs": [
    {
     "data": {
      "text/html": [
       "<div>\n",
       "<table border=\"1\" class=\"dataframe\">\n",
       "  <thead>\n",
       "    <tr style=\"text-align: right;\">\n",
       "      <th></th>\n",
       "      <th>Itemset</th>\n",
       "      <th>Support</th>\n",
       "    </tr>\n",
       "  </thead>\n",
       "  <tbody>\n",
       "    <tr>\n",
       "      <th>0</th>\n",
       "      <td>[age]</td>\n",
       "      <td>91</td>\n",
       "    </tr>\n",
       "    <tr>\n",
       "      <th>1</th>\n",
       "      <td>[gender, pHRA]</td>\n",
       "      <td>89</td>\n",
       "    </tr>\n",
       "    <tr>\n",
       "      <th>2</th>\n",
       "      <td>[age, pHRA]</td>\n",
       "      <td>90</td>\n",
       "    </tr>\n",
       "    <tr>\n",
       "      <th>3</th>\n",
       "      <td>[gender]</td>\n",
       "      <td>107</td>\n",
       "    </tr>\n",
       "    <tr>\n",
       "      <th>4</th>\n",
       "      <td>[age, gender, pHRA]</td>\n",
       "      <td>87</td>\n",
       "    </tr>\n",
       "    <tr>\n",
       "      <th>5</th>\n",
       "      <td>[pHRA]</td>\n",
       "      <td>1131</td>\n",
       "    </tr>\n",
       "    <tr>\n",
       "      <th>6</th>\n",
       "      <td>[age, gender]</td>\n",
       "      <td>87</td>\n",
       "    </tr>\n",
       "  </tbody>\n",
       "</table>\n",
       "</div>"
      ],
      "text/plain": [
       "               Itemset  Support\n",
       "0                [age]       91\n",
       "1       [gender, pHRA]       89\n",
       "2          [age, pHRA]       90\n",
       "3             [gender]      107\n",
       "4  [age, gender, pHRA]       87\n",
       "5               [pHRA]     1131\n",
       "6        [age, gender]       87"
      ]
     },
     "execution_count": 14,
     "metadata": {},
     "output_type": "execute_result"
    }
   ],
   "source": [
    "itemsets"
   ]
  },
  {
   "cell_type": "code",
   "execution_count": 15,
   "metadata": {
    "collapsed": false
   },
   "outputs": [
    {
     "data": {
      "text/html": [
       "<div>\n",
       "<table border=\"1\" class=\"dataframe\">\n",
       "  <thead>\n",
       "    <tr style=\"text-align: right;\">\n",
       "      <th></th>\n",
       "      <th>X =&gt;</th>\n",
       "      <th>Y</th>\n",
       "      <th>Support</th>\n",
       "      <th>Confidence</th>\n",
       "    </tr>\n",
       "  </thead>\n",
       "  <tbody>\n",
       "    <tr>\n",
       "      <th>0</th>\n",
       "      <td>[gender, pHRA]</td>\n",
       "      <td>[age]</td>\n",
       "      <td>87</td>\n",
       "      <td>0.977528</td>\n",
       "    </tr>\n",
       "    <tr>\n",
       "      <th>1</th>\n",
       "      <td>[gender]</td>\n",
       "      <td>[age, pHRA]</td>\n",
       "      <td>87</td>\n",
       "      <td>0.813084</td>\n",
       "    </tr>\n",
       "    <tr>\n",
       "      <th>2</th>\n",
       "      <td>[age, pHRA]</td>\n",
       "      <td>[gender]</td>\n",
       "      <td>87</td>\n",
       "      <td>0.966667</td>\n",
       "    </tr>\n",
       "    <tr>\n",
       "      <th>3</th>\n",
       "      <td>[age]</td>\n",
       "      <td>[gender, pHRA]</td>\n",
       "      <td>87</td>\n",
       "      <td>0.956044</td>\n",
       "    </tr>\n",
       "    <tr>\n",
       "      <th>4</th>\n",
       "      <td>[age, gender]</td>\n",
       "      <td>[pHRA]</td>\n",
       "      <td>87</td>\n",
       "      <td>1.000000</td>\n",
       "    </tr>\n",
       "    <tr>\n",
       "      <th>5</th>\n",
       "      <td>[gender]</td>\n",
       "      <td>[pHRA]</td>\n",
       "      <td>89</td>\n",
       "      <td>0.831776</td>\n",
       "    </tr>\n",
       "    <tr>\n",
       "      <th>6</th>\n",
       "      <td>[age]</td>\n",
       "      <td>[pHRA]</td>\n",
       "      <td>90</td>\n",
       "      <td>0.989011</td>\n",
       "    </tr>\n",
       "    <tr>\n",
       "      <th>7</th>\n",
       "      <td>[gender]</td>\n",
       "      <td>[age]</td>\n",
       "      <td>87</td>\n",
       "      <td>0.813084</td>\n",
       "    </tr>\n",
       "    <tr>\n",
       "      <th>8</th>\n",
       "      <td>[age]</td>\n",
       "      <td>[gender]</td>\n",
       "      <td>87</td>\n",
       "      <td>0.956044</td>\n",
       "    </tr>\n",
       "  </tbody>\n",
       "</table>\n",
       "</div>"
      ],
      "text/plain": [
       "             X =>               Y  Support  Confidence\n",
       "0  [gender, pHRA]           [age]       87    0.977528\n",
       "1        [gender]     [age, pHRA]       87    0.813084\n",
       "2     [age, pHRA]        [gender]       87    0.966667\n",
       "3           [age]  [gender, pHRA]       87    0.956044\n",
       "4   [age, gender]          [pHRA]       87    1.000000\n",
       "5        [gender]          [pHRA]       89    0.831776\n",
       "6           [age]          [pHRA]       90    0.989011\n",
       "7        [gender]           [age]       87    0.813084\n",
       "8           [age]        [gender]       87    0.956044"
      ]
     },
     "execution_count": 15,
     "metadata": {},
     "output_type": "execute_result"
    }
   ],
   "source": [
    "rules"
   ]
  },
  {
   "cell_type": "code",
   "execution_count": 7,
   "metadata": {
    "collapsed": false
   },
   "outputs": [
    {
     "data": {
      "text/html": [
       "<div>\n",
       "<table border=\"1\" class=\"dataframe\">\n",
       "  <thead>\n",
       "    <tr style=\"text-align: right;\">\n",
       "      <th></th>\n",
       "      <th>Column</th>\n",
       "      <th>Non-null values in Group (missing)</th>\n",
       "      <th>Non-null values in Group (non-missing)</th>\n",
       "      <th>Mean - Group (missing)</th>\n",
       "      <th>Mean - Group (non-missing)</th>\n",
       "      <th>T (Equal Variance)</th>\n",
       "      <th>p value (Equal Variance)</th>\n",
       "      <th>T (Unequal Variance)</th>\n",
       "      <th>p value (Unequal Variance)</th>\n",
       "    </tr>\n",
       "  </thead>\n",
       "  <tbody>\n",
       "    <tr>\n",
       "      <th>0</th>\n",
       "      <td>Attention to Detail</td>\n",
       "      <td>0</td>\n",
       "      <td>3045</td>\n",
       "      <td>NaN</td>\n",
       "      <td>633.161905</td>\n",
       "      <td>--</td>\n",
       "      <td>--</td>\n",
       "      <td>--</td>\n",
       "      <td>--</td>\n",
       "    </tr>\n",
       "    <tr>\n",
       "      <th>1</th>\n",
       "      <td>Computer Programming</td>\n",
       "      <td>41</td>\n",
       "      <td>8480</td>\n",
       "      <td>460.365854</td>\n",
       "      <td>451.567099</td>\n",
       "      <td>0.57032</td>\n",
       "      <td>0.568476</td>\n",
       "      <td>0.52237</td>\n",
       "      <td>0.604271</td>\n",
       "    </tr>\n",
       "    <tr>\n",
       "      <th>2</th>\n",
       "      <td>Computer Science</td>\n",
       "      <td>0</td>\n",
       "      <td>2202</td>\n",
       "      <td>NaN</td>\n",
       "      <td>407.212080</td>\n",
       "      <td>--</td>\n",
       "      <td>--</td>\n",
       "      <td>--</td>\n",
       "      <td>--</td>\n",
       "    </tr>\n",
       "    <tr>\n",
       "      <th>3</th>\n",
       "      <td>English</td>\n",
       "      <td>58</td>\n",
       "      <td>12391</td>\n",
       "      <td>509.172414</td>\n",
       "      <td>493.276249</td>\n",
       "      <td>1.15139</td>\n",
       "      <td>0.249593</td>\n",
       "      <td>1.31866</td>\n",
       "      <td>0.192491</td>\n",
       "    </tr>\n",
       "    <tr>\n",
       "      <th>4</th>\n",
       "      <td>Logical Ability</td>\n",
       "      <td>58</td>\n",
       "      <td>12351</td>\n",
       "      <td>495.241379</td>\n",
       "      <td>494.728524</td>\n",
       "      <td>0.0434309</td>\n",
       "      <td>0.965359</td>\n",
       "      <td>0.053034</td>\n",
       "      <td>0.957888</td>\n",
       "    </tr>\n",
       "    <tr>\n",
       "      <th>5</th>\n",
       "      <td>Personality</td>\n",
       "      <td>33</td>\n",
       "      <td>10348</td>\n",
       "      <td>177.303030</td>\n",
       "      <td>163.853692</td>\n",
       "      <td>1.70224</td>\n",
       "      <td>0.0887394</td>\n",
       "      <td>1.2081</td>\n",
       "      <td>0.235833</td>\n",
       "    </tr>\n",
       "    <tr>\n",
       "      <th>6</th>\n",
       "      <td>Quantitative Ability</td>\n",
       "      <td>55</td>\n",
       "      <td>12333</td>\n",
       "      <td>508.945455</td>\n",
       "      <td>501.918106</td>\n",
       "      <td>0.417919</td>\n",
       "      <td>0.676014</td>\n",
       "      <td>0.446572</td>\n",
       "      <td>0.656952</td>\n",
       "    </tr>\n",
       "    <tr>\n",
       "      <th>7</th>\n",
       "      <td>gender</td>\n",
       "      <td>4</td>\n",
       "      <td>12380</td>\n",
       "      <td>1.000000</td>\n",
       "      <td>0.760339</td>\n",
       "      <td>1.12277</td>\n",
       "      <td>0.261558</td>\n",
       "      <td>62.4651</td>\n",
       "      <td>0</td>\n",
       "    </tr>\n",
       "    <tr>\n",
       "      <th>8</th>\n",
       "      <td>pCityID</td>\n",
       "      <td>59</td>\n",
       "      <td>12400</td>\n",
       "      <td>3.745763</td>\n",
       "      <td>1468.139435</td>\n",
       "      <td>-12.0867</td>\n",
       "      <td>1.91006e-33</td>\n",
       "      <td>-159.903</td>\n",
       "      <td>0</td>\n",
       "    </tr>\n",
       "    <tr>\n",
       "      <th>9</th>\n",
       "      <td>cCityID</td>\n",
       "      <td>59</td>\n",
       "      <td>12400</td>\n",
       "      <td>78.932203</td>\n",
       "      <td>1417.744194</td>\n",
       "      <td>-11.5639</td>\n",
       "      <td>9.01458e-31</td>\n",
       "      <td>-23.7855</td>\n",
       "      <td>2.2758e-32</td>\n",
       "    </tr>\n",
       "    <tr>\n",
       "      <th>10</th>\n",
       "      <td>boardPercent_10</td>\n",
       "      <td>58</td>\n",
       "      <td>12324</td>\n",
       "      <td>73.321552</td>\n",
       "      <td>76.906887</td>\n",
       "      <td>-2.54427</td>\n",
       "      <td>0.0109627</td>\n",
       "      <td>-2.19512</td>\n",
       "      <td>0.0322137</td>\n",
       "    </tr>\n",
       "    <tr>\n",
       "      <th>11</th>\n",
       "      <td>boardPercent_12</td>\n",
       "      <td>58</td>\n",
       "      <td>12119</td>\n",
       "      <td>70.800690</td>\n",
       "      <td>73.865462</td>\n",
       "      <td>-2.02356</td>\n",
       "      <td>0.0430373</td>\n",
       "      <td>-2.13635</td>\n",
       "      <td>0.0369112</td>\n",
       "    </tr>\n",
       "    <tr>\n",
       "      <th>12</th>\n",
       "      <td>collegeID</td>\n",
       "      <td>59</td>\n",
       "      <td>12394</td>\n",
       "      <td>677.813559</td>\n",
       "      <td>4766.024205</td>\n",
       "      <td>-6.70384</td>\n",
       "      <td>2.11775e-11</td>\n",
       "      <td>-23.1392</td>\n",
       "      <td>3.84924e-33</td>\n",
       "    </tr>\n",
       "    <tr>\n",
       "      <th>13</th>\n",
       "      <td>degreeID</td>\n",
       "      <td>59</td>\n",
       "      <td>12394</td>\n",
       "      <td>7.915254</td>\n",
       "      <td>9.565758</td>\n",
       "      <td>-2.68059</td>\n",
       "      <td>0.00735882</td>\n",
       "      <td>-7.61524</td>\n",
       "      <td>1.72404e-10</td>\n",
       "    </tr>\n",
       "    <tr>\n",
       "      <th>14</th>\n",
       "      <td>subjectID</td>\n",
       "      <td>59</td>\n",
       "      <td>12394</td>\n",
       "      <td>18.847458</td>\n",
       "      <td>50.456995</td>\n",
       "      <td>-2.81333</td>\n",
       "      <td>0.00491079</td>\n",
       "      <td>-6.6698</td>\n",
       "      <td>8.4035e-09</td>\n",
       "    </tr>\n",
       "    <tr>\n",
       "      <th>15</th>\n",
       "      <td>completionYear</td>\n",
       "      <td>58</td>\n",
       "      <td>12331</td>\n",
       "      <td>2009.603448</td>\n",
       "      <td>2012.194550</td>\n",
       "      <td>-12.0035</td>\n",
       "      <td>5.18942e-33</td>\n",
       "      <td>-28.8847</td>\n",
       "      <td>5.43126e-37</td>\n",
       "    </tr>\n",
       "    <tr>\n",
       "      <th>16</th>\n",
       "      <td>overallPercentage</td>\n",
       "      <td>57</td>\n",
       "      <td>12222</td>\n",
       "      <td>70.170877</td>\n",
       "      <td>71.250726</td>\n",
       "      <td>-1.05466</td>\n",
       "      <td>0.291601</td>\n",
       "      <td>-0.927474</td>\n",
       "      <td>0.357632</td>\n",
       "    </tr>\n",
       "    <tr>\n",
       "      <th>17</th>\n",
       "      <td>college_cityID</td>\n",
       "      <td>59</td>\n",
       "      <td>12392</td>\n",
       "      <td>1615.406780</td>\n",
       "      <td>1595.193512</td>\n",
       "      <td>0.169487</td>\n",
       "      <td>0.865416</td>\n",
       "      <td>0.187291</td>\n",
       "      <td>0.852079</td>\n",
       "    </tr>\n",
       "    <tr>\n",
       "      <th>18</th>\n",
       "      <td>college_stateID</td>\n",
       "      <td>59</td>\n",
       "      <td>12392</td>\n",
       "      <td>17.101695</td>\n",
       "      <td>18.859829</td>\n",
       "      <td>-1.44817</td>\n",
       "      <td>0.147596</td>\n",
       "      <td>-1.59203</td>\n",
       "      <td>0.116752</td>\n",
       "    </tr>\n",
       "    <tr>\n",
       "      <th>19</th>\n",
       "      <td>college_regionID</td>\n",
       "      <td>59</td>\n",
       "      <td>12392</td>\n",
       "      <td>1.694915</td>\n",
       "      <td>1.733457</td>\n",
       "      <td>-0.299484</td>\n",
       "      <td>0.764576</td>\n",
       "      <td>-0.336933</td>\n",
       "      <td>0.737369</td>\n",
       "    </tr>\n",
       "    <tr>\n",
       "      <th>20</th>\n",
       "      <td>dom_p</td>\n",
       "      <td>41</td>\n",
       "      <td>10265</td>\n",
       "      <td>0.687288</td>\n",
       "      <td>0.608070</td>\n",
       "      <td>1.8374</td>\n",
       "      <td>0.0661799</td>\n",
       "      <td>2.1887</td>\n",
       "      <td>0.0344488</td>\n",
       "    </tr>\n",
       "    <tr>\n",
       "      <th>21</th>\n",
       "      <td>field_of_study</td>\n",
       "      <td>59</td>\n",
       "      <td>12394</td>\n",
       "      <td>0.788136</td>\n",
       "      <td>1.267508</td>\n",
       "      <td>-4.91907</td>\n",
       "      <td>8.80655e-07</td>\n",
       "      <td>-4.36589</td>\n",
       "      <td>5.23897e-05</td>\n",
       "    </tr>\n",
       "    <tr>\n",
       "      <th>22</th>\n",
       "      <td>pHRA</td>\n",
       "      <td>1</td>\n",
       "      <td>11359</td>\n",
       "      <td>1.000000</td>\n",
       "      <td>1.801303</td>\n",
       "      <td>--</td>\n",
       "      <td>--</td>\n",
       "      <td>--</td>\n",
       "      <td>--</td>\n",
       "    </tr>\n",
       "    <tr>\n",
       "      <th>23</th>\n",
       "      <td>pMetro</td>\n",
       "      <td>59</td>\n",
       "      <td>12400</td>\n",
       "      <td>0.000000</td>\n",
       "      <td>0.251855</td>\n",
       "      <td>-4.45629</td>\n",
       "      <td>8.41182e-06</td>\n",
       "      <td>-64.6064</td>\n",
       "      <td>0</td>\n",
       "    </tr>\n",
       "    <tr>\n",
       "      <th>24</th>\n",
       "      <td>college_metro</td>\n",
       "      <td>59</td>\n",
       "      <td>12392</td>\n",
       "      <td>0.542373</td>\n",
       "      <td>0.293657</td>\n",
       "      <td>4.18247</td>\n",
       "      <td>2.90338e-05</td>\n",
       "      <td>3.79459</td>\n",
       "      <td>0.000353335</td>\n",
       "    </tr>\n",
       "    <tr>\n",
       "      <th>25</th>\n",
       "      <td>age</td>\n",
       "      <td>0</td>\n",
       "      <td>12400</td>\n",
       "      <td>NaN</td>\n",
       "      <td>24.571613</td>\n",
       "      <td>--</td>\n",
       "      <td>--</td>\n",
       "      <td>--</td>\n",
       "      <td>--</td>\n",
       "    </tr>\n",
       "    <tr>\n",
       "      <th>26</th>\n",
       "      <td>companyHRA</td>\n",
       "      <td>88</td>\n",
       "      <td>10818</td>\n",
       "      <td>2.147727</td>\n",
       "      <td>2.286929</td>\n",
       "      <td>-1.57126</td>\n",
       "      <td>0.116152</td>\n",
       "      <td>-1.4818</td>\n",
       "      <td>0.141956</td>\n",
       "    </tr>\n",
       "    <tr>\n",
       "      <th>27</th>\n",
       "      <td>companyMetro</td>\n",
       "      <td>90</td>\n",
       "      <td>12332</td>\n",
       "      <td>0.511111</td>\n",
       "      <td>0.570224</td>\n",
       "      <td>-1.12853</td>\n",
       "      <td>0.259118</td>\n",
       "      <td>-1.11168</td>\n",
       "      <td>0.269226</td>\n",
       "    </tr>\n",
       "  </tbody>\n",
       "</table>\n",
       "</div>"
      ],
      "text/plain": [
       "                  Column  Non-null values in Group (missing)  \\\n",
       "0    Attention to Detail                                   0   \n",
       "1   Computer Programming                                  41   \n",
       "2       Computer Science                                   0   \n",
       "3                English                                  58   \n",
       "4        Logical Ability                                  58   \n",
       "5            Personality                                  33   \n",
       "6   Quantitative Ability                                  55   \n",
       "7                 gender                                   4   \n",
       "8                pCityID                                  59   \n",
       "9                cCityID                                  59   \n",
       "10       boardPercent_10                                  58   \n",
       "11       boardPercent_12                                  58   \n",
       "12             collegeID                                  59   \n",
       "13              degreeID                                  59   \n",
       "14             subjectID                                  59   \n",
       "15        completionYear                                  58   \n",
       "16     overallPercentage                                  57   \n",
       "17        college_cityID                                  59   \n",
       "18       college_stateID                                  59   \n",
       "19      college_regionID                                  59   \n",
       "20                 dom_p                                  41   \n",
       "21        field_of_study                                  59   \n",
       "22                  pHRA                                   1   \n",
       "23                pMetro                                  59   \n",
       "24         college_metro                                  59   \n",
       "25                   age                                   0   \n",
       "26            companyHRA                                  88   \n",
       "27          companyMetro                                  90   \n",
       "\n",
       "    Non-null values in Group (non-missing)  Mean - Group (missing)  \\\n",
       "0                                     3045                     NaN   \n",
       "1                                     8480              460.365854   \n",
       "2                                     2202                     NaN   \n",
       "3                                    12391              509.172414   \n",
       "4                                    12351              495.241379   \n",
       "5                                    10348              177.303030   \n",
       "6                                    12333              508.945455   \n",
       "7                                    12380                1.000000   \n",
       "8                                    12400                3.745763   \n",
       "9                                    12400               78.932203   \n",
       "10                                   12324               73.321552   \n",
       "11                                   12119               70.800690   \n",
       "12                                   12394              677.813559   \n",
       "13                                   12394                7.915254   \n",
       "14                                   12394               18.847458   \n",
       "15                                   12331             2009.603448   \n",
       "16                                   12222               70.170877   \n",
       "17                                   12392             1615.406780   \n",
       "18                                   12392               17.101695   \n",
       "19                                   12392                1.694915   \n",
       "20                                   10265                0.687288   \n",
       "21                                   12394                0.788136   \n",
       "22                                   11359                1.000000   \n",
       "23                                   12400                0.000000   \n",
       "24                                   12392                0.542373   \n",
       "25                                   12400                     NaN   \n",
       "26                                   10818                2.147727   \n",
       "27                                   12332                0.511111   \n",
       "\n",
       "    Mean - Group (non-missing) T (Equal Variance) p value (Equal Variance)  \\\n",
       "0                   633.161905                 --                       --   \n",
       "1                   451.567099            0.57032                 0.568476   \n",
       "2                   407.212080                 --                       --   \n",
       "3                   493.276249            1.15139                 0.249593   \n",
       "4                   494.728524          0.0434309                 0.965359   \n",
       "5                   163.853692            1.70224                0.0887394   \n",
       "6                   501.918106           0.417919                 0.676014   \n",
       "7                     0.760339            1.12277                 0.261558   \n",
       "8                  1468.139435           -12.0867              1.91006e-33   \n",
       "9                  1417.744194           -11.5639              9.01458e-31   \n",
       "10                   76.906887           -2.54427                0.0109627   \n",
       "11                   73.865462           -2.02356                0.0430373   \n",
       "12                 4766.024205           -6.70384              2.11775e-11   \n",
       "13                    9.565758           -2.68059               0.00735882   \n",
       "14                   50.456995           -2.81333               0.00491079   \n",
       "15                 2012.194550           -12.0035              5.18942e-33   \n",
       "16                   71.250726           -1.05466                 0.291601   \n",
       "17                 1595.193512           0.169487                 0.865416   \n",
       "18                   18.859829           -1.44817                 0.147596   \n",
       "19                    1.733457          -0.299484                 0.764576   \n",
       "20                    0.608070             1.8374                0.0661799   \n",
       "21                    1.267508           -4.91907              8.80655e-07   \n",
       "22                    1.801303                 --                       --   \n",
       "23                    0.251855           -4.45629              8.41182e-06   \n",
       "24                    0.293657            4.18247              2.90338e-05   \n",
       "25                   24.571613                 --                       --   \n",
       "26                    2.286929           -1.57126                 0.116152   \n",
       "27                    0.570224           -1.12853                 0.259118   \n",
       "\n",
       "   T (Unequal Variance) p value (Unequal Variance)  \n",
       "0                    --                         --  \n",
       "1               0.52237                   0.604271  \n",
       "2                    --                         --  \n",
       "3               1.31866                   0.192491  \n",
       "4              0.053034                   0.957888  \n",
       "5                1.2081                   0.235833  \n",
       "6              0.446572                   0.656952  \n",
       "7               62.4651                          0  \n",
       "8              -159.903                          0  \n",
       "9              -23.7855                 2.2758e-32  \n",
       "10             -2.19512                  0.0322137  \n",
       "11             -2.13635                  0.0369112  \n",
       "12             -23.1392                3.84924e-33  \n",
       "13             -7.61524                1.72404e-10  \n",
       "14              -6.6698                 8.4035e-09  \n",
       "15             -28.8847                5.43126e-37  \n",
       "16            -0.927474                   0.357632  \n",
       "17             0.187291                   0.852079  \n",
       "18             -1.59203                   0.116752  \n",
       "19            -0.336933                   0.737369  \n",
       "20               2.1887                  0.0344488  \n",
       "21             -4.36589                5.23897e-05  \n",
       "22                   --                         --  \n",
       "23             -64.6064                          0  \n",
       "24              3.79459                0.000353335  \n",
       "25                   --                         --  \n",
       "26              -1.4818                   0.141956  \n",
       "27             -1.11168                   0.269226  "
      ]
     },
     "execution_count": 7,
     "metadata": {},
     "output_type": "execute_result"
    }
   ],
   "source": [
    "## Experimental Cohort Analysis\n",
    "## Where a particular column is missing, is there any significant mean difference in the remaining columns?\n",
    "## So testing difference of averages of values between two groups (X is missing and X is not missing)\n",
    "\n",
    "mf.cohort(group = ['age'])\n"
   ]
  },
  {
   "cell_type": "code",
   "execution_count": 9,
   "metadata": {
    "collapsed": false
   },
   "outputs": [
    {
     "ename": "TypeError",
     "evalue": "get_best_column_set() takes no arguments (2 given)",
     "output_type": "error",
     "traceback": [
      "\u001b[1;31m---------------------------------------------------------------------------\u001b[0m",
      "\u001b[1;31mTypeError\u001b[0m                                 Traceback (most recent call last)",
      "\u001b[1;32m<ipython-input-9-b74a11fad454>\u001b[0m in \u001b[0;36m<module>\u001b[1;34m()\u001b[0m\n\u001b[1;32m----> 1\u001b[1;33m \u001b[0mmf\u001b[0m\u001b[1;33m.\u001b[0m\u001b[0mget_best_column_set\u001b[0m\u001b[1;33m(\u001b[0m\u001b[0mmf\u001b[0m\u001b[1;33m)\u001b[0m\u001b[1;33m\u001b[0m\u001b[0m\n\u001b[0m",
      "\u001b[1;31mTypeError\u001b[0m: get_best_column_set() takes no arguments (2 given)"
     ]
    }
   ],
   "source": [
    "mf.get_best_column_set(mf)"
   ]
  },
  {
   "cell_type": "code",
   "execution_count": 10,
   "metadata": {
    "collapsed": true
   },
   "outputs": [],
   "source": [
    "pd.DataFrame?"
   ]
  },
  {
   "cell_type": "code",
   "execution_count": null,
   "metadata": {
    "collapsed": true
   },
   "outputs": [],
   "source": []
  },
  {
   "cell_type": "code",
   "execution_count": null,
   "metadata": {
    "collapsed": true
   },
   "outputs": [],
   "source": []
  }
 ],
 "metadata": {
  "kernelspec": {
   "display_name": "Python 2",
   "language": "python",
   "name": "python2"
  },
  "language_info": {
   "codemirror_mode": {
    "name": "ipython",
    "version": 2
   },
   "file_extension": ".py",
   "mimetype": "text/x-python",
   "name": "python",
   "nbconvert_exporter": "python",
   "pygments_lexer": "ipython2",
   "version": "2.7.9"
  }
 },
 "nbformat": 4,
 "nbformat_minor": 0
}
